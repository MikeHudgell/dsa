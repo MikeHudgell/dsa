{
 "cells": [
  {
   "cell_type": "code",
   "execution_count": 22,
   "metadata": {
    "application/vnd.databricks.v1+cell": {
     "inputWidgets": {},
     "nuid": "1ad43e38-3f74-46ef-9847-e5549fc8af32",
     "showTitle": false,
     "title": ""
    }
   },
   "outputs": [],
   "source": [
    "\n",
    "import rtree, pygeos\n",
    "import pandas as pd\n",
    "import geopandas as gpd\n",
    "from shapely.geometry import Point\n",
    "import os\n",
    "import folium\n",
    "\n",
    "import numpy as np\n",
    "from matplotlib import pyplot as plt\n",
    "from sklearn.cluster import KMeans\n",
    "import numpy as np\n",
    "import statsmodels.api as sm\n",
    "from kmodes.kmodes import KModes"
   ]
  },
  {
   "cell_type": "code",
   "execution_count": 2,
   "metadata": {
    "application/vnd.databricks.v1+cell": {
     "inputWidgets": {},
     "nuid": "2ad2cc9b-4bf4-44de-b33e-a4bd67456e2b",
     "showTitle": false,
     "title": ""
    }
   },
   "outputs": [
    {
     "data": {
      "text/plain": [
       "['dft-road-casualty-statistics-accident-last-5-years.csv',\n",
       " 'dft-road-casualty-statistics-accident-last-5-years_sussex.csv',\n",
       " 'dft-road-casualty-statistics-casualty-last-5-years.csv',\n",
       " 'dft-road-casualty-statistics-vehicle-last-5-years.csv',\n",
       " 'OS VectorMap District (ESRI Shape File) SU',\n",
       " 'PFA_DEC_2021_EW_BGC.cpg',\n",
       " 'PFA_DEC_2021_EW_BGC.dbf',\n",
       " 'PFA_DEC_2021_EW_BGC.prj',\n",
       " 'PFA_DEC_2021_EW_BGC.shp',\n",
       " 'PFA_DEC_2021_EW_BGC.shx',\n",
       " 'Police_Force_Areas_(December_2021)_EW_BGC.xml']"
      ]
     },
     "execution_count": 2,
     "metadata": {},
     "output_type": "execute_result"
    }
   ],
   "source": [
    "#os.listdir('/dbfs/FileStore/mike.hudgell@os.uk/')\n",
    "\n",
    "data_path = 'C:/Users/mhudgell/data/'\n",
    "os.listdir(data_path)"
   ]
  },
  {
   "cell_type": "code",
   "execution_count": 3,
   "metadata": {
    "application/vnd.databricks.v1+cell": {
     "inputWidgets": {},
     "nuid": "15cf24ba-d39b-4c8d-9c52-0e5f68b7f0b7",
     "showTitle": false,
     "title": ""
    }
   },
   "outputs": [
    {
     "name": "stdout",
     "output_type": "stream",
     "text": [
      "C:/Users/mhudgell/data/dft-road-casualty-statistics-accident-last-5-years.csv\n"
     ]
    },
    {
     "name": "stderr",
     "output_type": "stream",
     "text": [
      "C:\\Users\\mhudgell\\AppData\\Roaming\\Python\\Python37\\site-packages\\IPython\\core\\interactiveshell.py:3553: DtypeWarning: Columns (0,2) have mixed types.Specify dtype option on import or set low_memory=False.\n",
      "  exec(code_obj, self.user_global_ns, self.user_ns)\n"
     ]
    }
   ],
   "source": [
    "file_path = data_path +'dft-road-casualty-statistics-accident-last-5-years.csv'\n",
    "print(file_path)\n",
    "rta = pd.read_csv(file_path)"
   ]
  },
  {
   "cell_type": "code",
   "execution_count": 4,
   "metadata": {},
   "outputs": [
    {
     "data": {
      "text/html": [
       "<div>\n",
       "<style scoped>\n",
       "    .dataframe tbody tr th:only-of-type {\n",
       "        vertical-align: middle;\n",
       "    }\n",
       "\n",
       "    .dataframe tbody tr th {\n",
       "        vertical-align: top;\n",
       "    }\n",
       "\n",
       "    .dataframe thead th {\n",
       "        text-align: right;\n",
       "    }\n",
       "</style>\n",
       "<table border=\"1\" class=\"dataframe\">\n",
       "  <thead>\n",
       "    <tr style=\"text-align: right;\">\n",
       "      <th></th>\n",
       "      <th>accident_index</th>\n",
       "      <th>accident_year</th>\n",
       "      <th>accident_reference</th>\n",
       "      <th>location_easting_osgr</th>\n",
       "      <th>location_northing_osgr</th>\n",
       "      <th>longitude</th>\n",
       "      <th>latitude</th>\n",
       "      <th>police_force</th>\n",
       "      <th>accident_severity</th>\n",
       "      <th>number_of_vehicles</th>\n",
       "      <th>...</th>\n",
       "      <th>pedestrian_crossing_physical_facilities</th>\n",
       "      <th>light_conditions</th>\n",
       "      <th>weather_conditions</th>\n",
       "      <th>road_surface_conditions</th>\n",
       "      <th>special_conditions_at_site</th>\n",
       "      <th>carriageway_hazards</th>\n",
       "      <th>urban_or_rural_area</th>\n",
       "      <th>did_police_officer_attend_scene_of_accident</th>\n",
       "      <th>trunk_road_flag</th>\n",
       "      <th>lsoa_of_accident_location</th>\n",
       "    </tr>\n",
       "  </thead>\n",
       "  <tbody>\n",
       "    <tr>\n",
       "      <th>0</th>\n",
       "      <td>2016010000005</td>\n",
       "      <td>2016</td>\n",
       "      <td>010000005</td>\n",
       "      <td>519310.0</td>\n",
       "      <td>188730.0</td>\n",
       "      <td>-0.279323</td>\n",
       "      <td>51.584754</td>\n",
       "      <td>1</td>\n",
       "      <td>3</td>\n",
       "      <td>2</td>\n",
       "      <td>...</td>\n",
       "      <td>0</td>\n",
       "      <td>5</td>\n",
       "      <td>1</td>\n",
       "      <td>1</td>\n",
       "      <td>0</td>\n",
       "      <td>0</td>\n",
       "      <td>1</td>\n",
       "      <td>1</td>\n",
       "      <td>2</td>\n",
       "      <td>E01000543</td>\n",
       "    </tr>\n",
       "    <tr>\n",
       "      <th>1</th>\n",
       "      <td>2016010000006</td>\n",
       "      <td>2016</td>\n",
       "      <td>010000006</td>\n",
       "      <td>551920.0</td>\n",
       "      <td>174560.0</td>\n",
       "      <td>0.184928</td>\n",
       "      <td>51.449595</td>\n",
       "      <td>1</td>\n",
       "      <td>3</td>\n",
       "      <td>1</td>\n",
       "      <td>...</td>\n",
       "      <td>0</td>\n",
       "      <td>4</td>\n",
       "      <td>1</td>\n",
       "      <td>1</td>\n",
       "      <td>0</td>\n",
       "      <td>0</td>\n",
       "      <td>1</td>\n",
       "      <td>1</td>\n",
       "      <td>2</td>\n",
       "      <td>E01000375</td>\n",
       "    </tr>\n",
       "  </tbody>\n",
       "</table>\n",
       "<p>2 rows × 36 columns</p>\n",
       "</div>"
      ],
      "text/plain": [
       "  accident_index  accident_year accident_reference  location_easting_osgr  \\\n",
       "0  2016010000005           2016          010000005               519310.0   \n",
       "1  2016010000006           2016          010000006               551920.0   \n",
       "\n",
       "   location_northing_osgr  longitude   latitude  police_force  \\\n",
       "0                188730.0  -0.279323  51.584754             1   \n",
       "1                174560.0   0.184928  51.449595             1   \n",
       "\n",
       "   accident_severity  number_of_vehicles  ...  \\\n",
       "0                  3                   2  ...   \n",
       "1                  3                   1  ...   \n",
       "\n",
       "   pedestrian_crossing_physical_facilities light_conditions  \\\n",
       "0                                        0                5   \n",
       "1                                        0                4   \n",
       "\n",
       "   weather_conditions road_surface_conditions  special_conditions_at_site  \\\n",
       "0                   1                       1                           0   \n",
       "1                   1                       1                           0   \n",
       "\n",
       "  carriageway_hazards urban_or_rural_area  \\\n",
       "0                   0                   1   \n",
       "1                   0                   1   \n",
       "\n",
       "   did_police_officer_attend_scene_of_accident  trunk_road_flag  \\\n",
       "0                                            1                2   \n",
       "1                                            1                2   \n",
       "\n",
       "   lsoa_of_accident_location  \n",
       "0                  E01000543  \n",
       "1                  E01000375  \n",
       "\n",
       "[2 rows x 36 columns]"
      ]
     },
     "execution_count": 4,
     "metadata": {},
     "output_type": "execute_result"
    }
   ],
   "source": [
    "rta.head(2)"
   ]
  },
  {
   "cell_type": "code",
   "execution_count": 5,
   "metadata": {
    "application/vnd.databricks.v1+cell": {
     "inputWidgets": {},
     "nuid": "ba2dd196-f83b-49c9-b55b-c09ffaaa2298",
     "showTitle": false,
     "title": ""
    }
   },
   "outputs": [
    {
     "name": "stderr",
     "output_type": "stream",
     "text": [
      "C:\\Anaconda3\\envs\\geo37\\lib\\site-packages\\pyproj\\crs\\crs.py:53: FutureWarning: '+init=<authority>:<code>' syntax is deprecated. '<authority>:<code>' is the preferred initialization method. When making the change, be mindful of axis order changes: https://pyproj4.github.io/pyproj/stable/gotchas.html#axis-order-changes-in-proj-6\n",
      "  return _prepare_from_string(\" \".join(pjargs))\n"
     ]
    }
   ],
   "source": [
    "geometry = [Point(xy) for xy in zip(rta.location_easting_osgr, rta.location_northing_osgr)]\n",
    "crs = {'init': 'epsg:27700'} #4326\n",
    "rta_gdf = gpd.GeoDataFrame(rta, crs=crs, geometry=geometry)"
   ]
  },
  {
   "cell_type": "code",
   "execution_count": 6,
   "metadata": {
    "application/vnd.databricks.v1+cell": {
     "inputWidgets": {},
     "nuid": "26f0930d-5caa-4e19-977d-b5946c2d584e",
     "showTitle": false,
     "title": ""
    }
   },
   "outputs": [
    {
     "data": {
      "text/plain": [
       "<AxesSubplot:>"
      ]
     },
     "execution_count": 6,
     "metadata": {},
     "output_type": "execute_result"
    },
    {
     "data": {
      "image/png": "[encoded data removed]",
      "text/plain": [
       "<Figure size 432x288 with 1 Axes>"
      ]
     },
     "metadata": {
      "needs_background": "light"
     },
     "output_type": "display_data"
    }
   ],
   "source": [
    "rta_gdf.plot()"
   ]
  },
  {
   "cell_type": "code",
   "execution_count": 7,
   "metadata": {
    "application/vnd.databricks.v1+cell": {
     "inputWidgets": {},
     "nuid": "e136ad27-c545-4c5d-b1fe-e3c8c805ebc2",
     "showTitle": false,
     "title": ""
    }
   },
   "outputs": [],
   "source": [
    "police_areas_gdf = gpd.read_file(data_path + 'PFA_DEC_2021_EW_BGC.shp')"
   ]
  },
  {
   "cell_type": "code",
   "execution_count": 8,
   "metadata": {
    "application/vnd.databricks.v1+cell": {
     "inputWidgets": {},
     "nuid": "fc0c2d4a-b841-4e2a-8a1e-881f07f4b2ff",
     "showTitle": false,
     "title": ""
    }
   },
   "outputs": [
    {
     "data": {
      "text/plain": [
       "<AxesSubplot:>"
      ]
     },
     "execution_count": 8,
     "metadata": {},
     "output_type": "execute_result"
    },
    {
     "data": {
      "image/png": "[encoded data removed]",
      "text/plain": [
       "<Figure size 432x288 with 1 Axes>"
      ]
     },
     "metadata": {
      "needs_background": "light"
     },
     "output_type": "display_data"
    }
   ],
   "source": [
    "police_areas_gdf.plot()"
   ]
  },
  {
   "cell_type": "code",
   "execution_count": 9,
   "metadata": {
    "application/vnd.databricks.v1+cell": {
     "inputWidgets": {},
     "nuid": "7f5799cf-1fd0-4c8c-ac4f-e55bc459f043",
     "showTitle": false,
     "title": ""
    }
   },
   "outputs": [],
   "source": [
    "sussex_poly = police_areas_gdf.loc[police_areas_gdf['PFA21NM'] == 'Sussex'] #.geometry"
   ]
  },
  {
   "cell_type": "code",
   "execution_count": 10,
   "metadata": {
    "application/vnd.databricks.v1+cell": {
     "inputWidgets": {},
     "nuid": "5825b902-8989-4863-b689-4a2bc49dd677",
     "showTitle": false,
     "title": ""
    }
   },
   "outputs": [
    {
     "data": {
      "text/plain": [
       "<AxesSubplot:>"
      ]
     },
     "execution_count": 10,
     "metadata": {},
     "output_type": "execute_result"
    },
    {
     "data": {
      "image/png": "[encoded data removed]",
      "text/plain": [
       "<Figure size 432x288 with 1 Axes>"
      ]
     },
     "metadata": {
      "needs_background": "light"
     },
     "output_type": "display_data"
    }
   ],
   "source": [
    "sussex_poly.plot()"
   ]
  },
  {
   "cell_type": "code",
   "execution_count": 11,
   "metadata": {
    "application/vnd.databricks.v1+cell": {
     "inputWidgets": {},
     "nuid": "64b78a1b-8d1b-42e5-beed-5947216125be",
     "showTitle": false,
     "title": ""
    }
   },
   "outputs": [
    {
     "data": {
      "text/html": [
       "<div>\n",
       "<style scoped>\n",
       "    .dataframe tbody tr th:only-of-type {\n",
       "        vertical-align: middle;\n",
       "    }\n",
       "\n",
       "    .dataframe tbody tr th {\n",
       "        vertical-align: top;\n",
       "    }\n",
       "\n",
       "    .dataframe thead th {\n",
       "        text-align: right;\n",
       "    }\n",
       "</style>\n",
       "<table border=\"1\" class=\"dataframe\">\n",
       "  <thead>\n",
       "    <tr style=\"text-align: right;\">\n",
       "      <th></th>\n",
       "      <th>accident_index</th>\n",
       "      <th>accident_year</th>\n",
       "      <th>accident_reference</th>\n",
       "      <th>location_easting_osgr</th>\n",
       "      <th>location_northing_osgr</th>\n",
       "      <th>longitude</th>\n",
       "      <th>latitude</th>\n",
       "      <th>police_force</th>\n",
       "      <th>accident_severity</th>\n",
       "      <th>number_of_vehicles</th>\n",
       "      <th>...</th>\n",
       "      <th>light_conditions</th>\n",
       "      <th>weather_conditions</th>\n",
       "      <th>road_surface_conditions</th>\n",
       "      <th>special_conditions_at_site</th>\n",
       "      <th>carriageway_hazards</th>\n",
       "      <th>urban_or_rural_area</th>\n",
       "      <th>did_police_officer_attend_scene_of_accident</th>\n",
       "      <th>trunk_road_flag</th>\n",
       "      <th>lsoa_of_accident_location</th>\n",
       "      <th>geometry</th>\n",
       "    </tr>\n",
       "  </thead>\n",
       "  <tbody>\n",
       "    <tr>\n",
       "      <th>0</th>\n",
       "      <td>2016010000005</td>\n",
       "      <td>2016</td>\n",
       "      <td>010000005</td>\n",
       "      <td>519310.0</td>\n",
       "      <td>188730.0</td>\n",
       "      <td>-0.279323</td>\n",
       "      <td>51.584754</td>\n",
       "      <td>1</td>\n",
       "      <td>3</td>\n",
       "      <td>2</td>\n",
       "      <td>...</td>\n",
       "      <td>5</td>\n",
       "      <td>1</td>\n",
       "      <td>1</td>\n",
       "      <td>0</td>\n",
       "      <td>0</td>\n",
       "      <td>1</td>\n",
       "      <td>1</td>\n",
       "      <td>2</td>\n",
       "      <td>E01000543</td>\n",
       "      <td>POINT (519310.000 188730.000)</td>\n",
       "    </tr>\n",
       "    <tr>\n",
       "      <th>1</th>\n",
       "      <td>2016010000006</td>\n",
       "      <td>2016</td>\n",
       "      <td>010000006</td>\n",
       "      <td>551920.0</td>\n",
       "      <td>174560.0</td>\n",
       "      <td>0.184928</td>\n",
       "      <td>51.449595</td>\n",
       "      <td>1</td>\n",
       "      <td>3</td>\n",
       "      <td>1</td>\n",
       "      <td>...</td>\n",
       "      <td>4</td>\n",
       "      <td>1</td>\n",
       "      <td>1</td>\n",
       "      <td>0</td>\n",
       "      <td>0</td>\n",
       "      <td>1</td>\n",
       "      <td>1</td>\n",
       "      <td>2</td>\n",
       "      <td>E01000375</td>\n",
       "      <td>POINT (551920.000 174560.000)</td>\n",
       "    </tr>\n",
       "    <tr>\n",
       "      <th>2</th>\n",
       "      <td>2016010000008</td>\n",
       "      <td>2016</td>\n",
       "      <td>010000008</td>\n",
       "      <td>505930.0</td>\n",
       "      <td>183850.0</td>\n",
       "      <td>-0.473837</td>\n",
       "      <td>51.543563</td>\n",
       "      <td>1</td>\n",
       "      <td>3</td>\n",
       "      <td>1</td>\n",
       "      <td>...</td>\n",
       "      <td>4</td>\n",
       "      <td>1</td>\n",
       "      <td>1</td>\n",
       "      <td>0</td>\n",
       "      <td>0</td>\n",
       "      <td>1</td>\n",
       "      <td>1</td>\n",
       "      <td>2</td>\n",
       "      <td>E01033725</td>\n",
       "      <td>POINT (505930.000 183850.000)</td>\n",
       "    </tr>\n",
       "    <tr>\n",
       "      <th>3</th>\n",
       "      <td>2016010000016</td>\n",
       "      <td>2016</td>\n",
       "      <td>010000016</td>\n",
       "      <td>527770.0</td>\n",
       "      <td>168930.0</td>\n",
       "      <td>-0.164442</td>\n",
       "      <td>51.404958</td>\n",
       "      <td>1</td>\n",
       "      <td>3</td>\n",
       "      <td>1</td>\n",
       "      <td>...</td>\n",
       "      <td>1</td>\n",
       "      <td>1</td>\n",
       "      <td>1</td>\n",
       "      <td>0</td>\n",
       "      <td>0</td>\n",
       "      <td>1</td>\n",
       "      <td>1</td>\n",
       "      <td>2</td>\n",
       "      <td>E01003379</td>\n",
       "      <td>POINT (527770.000 168930.000)</td>\n",
       "    </tr>\n",
       "    <tr>\n",
       "      <th>4</th>\n",
       "      <td>2016010000018</td>\n",
       "      <td>2016</td>\n",
       "      <td>010000018</td>\n",
       "      <td>510740.0</td>\n",
       "      <td>177230.0</td>\n",
       "      <td>-0.406580</td>\n",
       "      <td>51.483139</td>\n",
       "      <td>1</td>\n",
       "      <td>3</td>\n",
       "      <td>2</td>\n",
       "      <td>...</td>\n",
       "      <td>1</td>\n",
       "      <td>1</td>\n",
       "      <td>1</td>\n",
       "      <td>0</td>\n",
       "      <td>0</td>\n",
       "      <td>1</td>\n",
       "      <td>1</td>\n",
       "      <td>2</td>\n",
       "      <td>E01002583</td>\n",
       "      <td>POINT (510740.000 177230.000)</td>\n",
       "    </tr>\n",
       "    <tr>\n",
       "      <th>...</th>\n",
       "      <td>...</td>\n",
       "      <td>...</td>\n",
       "      <td>...</td>\n",
       "      <td>...</td>\n",
       "      <td>...</td>\n",
       "      <td>...</td>\n",
       "      <td>...</td>\n",
       "      <td>...</td>\n",
       "      <td>...</td>\n",
       "      <td>...</td>\n",
       "      <td>...</td>\n",
       "      <td>...</td>\n",
       "      <td>...</td>\n",
       "      <td>...</td>\n",
       "      <td>...</td>\n",
       "      <td>...</td>\n",
       "      <td>...</td>\n",
       "      <td>...</td>\n",
       "      <td>...</td>\n",
       "      <td>...</td>\n",
       "      <td>...</td>\n",
       "    </tr>\n",
       "    <tr>\n",
       "      <th>597968</th>\n",
       "      <td>2020991027064</td>\n",
       "      <td>2020</td>\n",
       "      <td>991027064</td>\n",
       "      <td>343034.0</td>\n",
       "      <td>731654.0</td>\n",
       "      <td>-2.926320</td>\n",
       "      <td>56.473539</td>\n",
       "      <td>99</td>\n",
       "      <td>2</td>\n",
       "      <td>2</td>\n",
       "      <td>...</td>\n",
       "      <td>1</td>\n",
       "      <td>1</td>\n",
       "      <td>1</td>\n",
       "      <td>0</td>\n",
       "      <td>0</td>\n",
       "      <td>1</td>\n",
       "      <td>1</td>\n",
       "      <td>-1</td>\n",
       "      <td>-1</td>\n",
       "      <td>POINT (343034.000 731654.000)</td>\n",
       "    </tr>\n",
       "    <tr>\n",
       "      <th>597969</th>\n",
       "      <td>2020991029573</td>\n",
       "      <td>2020</td>\n",
       "      <td>991029573</td>\n",
       "      <td>257963.0</td>\n",
       "      <td>658891.0</td>\n",
       "      <td>-4.267565</td>\n",
       "      <td>55.802353</td>\n",
       "      <td>99</td>\n",
       "      <td>3</td>\n",
       "      <td>1</td>\n",
       "      <td>...</td>\n",
       "      <td>1</td>\n",
       "      <td>1</td>\n",
       "      <td>1</td>\n",
       "      <td>0</td>\n",
       "      <td>0</td>\n",
       "      <td>1</td>\n",
       "      <td>2</td>\n",
       "      <td>-1</td>\n",
       "      <td>-1</td>\n",
       "      <td>POINT (257963.000 658891.000)</td>\n",
       "    </tr>\n",
       "    <tr>\n",
       "      <th>597970</th>\n",
       "      <td>2020991030297</td>\n",
       "      <td>2020</td>\n",
       "      <td>991030297</td>\n",
       "      <td>383664.0</td>\n",
       "      <td>810646.0</td>\n",
       "      <td>-2.271903</td>\n",
       "      <td>57.186317</td>\n",
       "      <td>99</td>\n",
       "      <td>2</td>\n",
       "      <td>2</td>\n",
       "      <td>...</td>\n",
       "      <td>1</td>\n",
       "      <td>1</td>\n",
       "      <td>1</td>\n",
       "      <td>0</td>\n",
       "      <td>0</td>\n",
       "      <td>2</td>\n",
       "      <td>1</td>\n",
       "      <td>-1</td>\n",
       "      <td>-1</td>\n",
       "      <td>POINT (383664.000 810646.000)</td>\n",
       "    </tr>\n",
       "    <tr>\n",
       "      <th>597971</th>\n",
       "      <td>2020991030900</td>\n",
       "      <td>2020</td>\n",
       "      <td>991030900</td>\n",
       "      <td>277161.0</td>\n",
       "      <td>674852.0</td>\n",
       "      <td>-3.968753</td>\n",
       "      <td>55.950940</td>\n",
       "      <td>99</td>\n",
       "      <td>3</td>\n",
       "      <td>2</td>\n",
       "      <td>...</td>\n",
       "      <td>1</td>\n",
       "      <td>1</td>\n",
       "      <td>1</td>\n",
       "      <td>0</td>\n",
       "      <td>0</td>\n",
       "      <td>1</td>\n",
       "      <td>2</td>\n",
       "      <td>-1</td>\n",
       "      <td>-1</td>\n",
       "      <td>POINT (277161.000 674852.000)</td>\n",
       "    </tr>\n",
       "    <tr>\n",
       "      <th>597972</th>\n",
       "      <td>2020991032575</td>\n",
       "      <td>2020</td>\n",
       "      <td>991032575</td>\n",
       "      <td>240402.0</td>\n",
       "      <td>681950.0</td>\n",
       "      <td>-4.561040</td>\n",
       "      <td>56.003843</td>\n",
       "      <td>99</td>\n",
       "      <td>3</td>\n",
       "      <td>1</td>\n",
       "      <td>...</td>\n",
       "      <td>1</td>\n",
       "      <td>1</td>\n",
       "      <td>1</td>\n",
       "      <td>0</td>\n",
       "      <td>2</td>\n",
       "      <td>1</td>\n",
       "      <td>1</td>\n",
       "      <td>-1</td>\n",
       "      <td>-1</td>\n",
       "      <td>POINT (240402.000 681950.000)</td>\n",
       "    </tr>\n",
       "  </tbody>\n",
       "</table>\n",
       "<p>597973 rows × 37 columns</p>\n",
       "</div>"
      ],
      "text/plain": [
       "       accident_index  accident_year accident_reference  \\\n",
       "0       2016010000005           2016          010000005   \n",
       "1       2016010000006           2016          010000006   \n",
       "2       2016010000008           2016          010000008   \n",
       "3       2016010000016           2016          010000016   \n",
       "4       2016010000018           2016          010000018   \n",
       "...               ...            ...                ...   \n",
       "597968  2020991027064           2020          991027064   \n",
       "597969  2020991029573           2020          991029573   \n",
       "597970  2020991030297           2020          991030297   \n",
       "597971  2020991030900           2020          991030900   \n",
       "597972  2020991032575           2020          991032575   \n",
       "\n",
       "        location_easting_osgr  location_northing_osgr  longitude   latitude  \\\n",
       "0                    519310.0                188730.0  -0.279323  51.584754   \n",
       "1                    551920.0                174560.0   0.184928  51.449595   \n",
       "2                    505930.0                183850.0  -0.473837  51.543563   \n",
       "3                    527770.0                168930.0  -0.164442  51.404958   \n",
       "4                    510740.0                177230.0  -0.406580  51.483139   \n",
       "...                       ...                     ...        ...        ...   \n",
       "597968               343034.0                731654.0  -2.926320  56.473539   \n",
       "597969               257963.0                658891.0  -4.267565  55.802353   \n",
       "597970               383664.0                810646.0  -2.271903  57.186317   \n",
       "597971               277161.0                674852.0  -3.968753  55.950940   \n",
       "597972               240402.0                681950.0  -4.561040  56.003843   \n",
       "\n",
       "        police_force  accident_severity  number_of_vehicles  ...  \\\n",
       "0                  1                  3                   2  ...   \n",
       "1                  1                  3                   1  ...   \n",
       "2                  1                  3                   1  ...   \n",
       "3                  1                  3                   1  ...   \n",
       "4                  1                  3                   2  ...   \n",
       "...              ...                ...                 ...  ...   \n",
       "597968            99                  2                   2  ...   \n",
       "597969            99                  3                   1  ...   \n",
       "597970            99                  2                   2  ...   \n",
       "597971            99                  3                   2  ...   \n",
       "597972            99                  3                   1  ...   \n",
       "\n",
       "        light_conditions weather_conditions  road_surface_conditions  \\\n",
       "0                      5                  1                        1   \n",
       "1                      4                  1                        1   \n",
       "2                      4                  1                        1   \n",
       "3                      1                  1                        1   \n",
       "4                      1                  1                        1   \n",
       "...                  ...                ...                      ...   \n",
       "597968                 1                  1                        1   \n",
       "597969                 1                  1                        1   \n",
       "597970                 1                  1                        1   \n",
       "597971                 1                  1                        1   \n",
       "597972                 1                  1                        1   \n",
       "\n",
       "       special_conditions_at_site  carriageway_hazards urban_or_rural_area  \\\n",
       "0                               0                    0                   1   \n",
       "1                               0                    0                   1   \n",
       "2                               0                    0                   1   \n",
       "3                               0                    0                   1   \n",
       "4                               0                    0                   1   \n",
       "...                           ...                  ...                 ...   \n",
       "597968                          0                    0                   1   \n",
       "597969                          0                    0                   1   \n",
       "597970                          0                    0                   2   \n",
       "597971                          0                    0                   1   \n",
       "597972                          0                    2                   1   \n",
       "\n",
       "       did_police_officer_attend_scene_of_accident  trunk_road_flag  \\\n",
       "0                                                1                2   \n",
       "1                                                1                2   \n",
       "2                                                1                2   \n",
       "3                                                1                2   \n",
       "4                                                1                2   \n",
       "...                                            ...              ...   \n",
       "597968                                           1               -1   \n",
       "597969                                           2               -1   \n",
       "597970                                           1               -1   \n",
       "597971                                           2               -1   \n",
       "597972                                           1               -1   \n",
       "\n",
       "        lsoa_of_accident_location                       geometry  \n",
       "0                       E01000543  POINT (519310.000 188730.000)  \n",
       "1                       E01000375  POINT (551920.000 174560.000)  \n",
       "2                       E01033725  POINT (505930.000 183850.000)  \n",
       "3                       E01003379  POINT (527770.000 168930.000)  \n",
       "4                       E01002583  POINT (510740.000 177230.000)  \n",
       "...                           ...                            ...  \n",
       "597968                         -1  POINT (343034.000 731654.000)  \n",
       "597969                         -1  POINT (257963.000 658891.000)  \n",
       "597970                         -1  POINT (383664.000 810646.000)  \n",
       "597971                         -1  POINT (277161.000 674852.000)  \n",
       "597972                         -1  POINT (240402.000 681950.000)  \n",
       "\n",
       "[597973 rows x 37 columns]"
      ]
     },
     "execution_count": 11,
     "metadata": {},
     "output_type": "execute_result"
    }
   ],
   "source": [
    "rta_gdf"
   ]
  },
  {
   "cell_type": "code",
   "execution_count": 12,
   "metadata": {
    "application/vnd.databricks.v1+cell": {
     "inputWidgets": {},
     "nuid": "c1fe61f7-02ea-4e05-bc39-ec804c7e1ac1",
     "showTitle": false,
     "title": ""
    }
   },
   "outputs": [
    {
     "data": {
      "text/html": [
       "<div>\n",
       "<style scoped>\n",
       "    .dataframe tbody tr th:only-of-type {\n",
       "        vertical-align: middle;\n",
       "    }\n",
       "\n",
       "    .dataframe tbody tr th {\n",
       "        vertical-align: top;\n",
       "    }\n",
       "\n",
       "    .dataframe thead th {\n",
       "        text-align: right;\n",
       "    }\n",
       "</style>\n",
       "<table border=\"1\" class=\"dataframe\">\n",
       "  <thead>\n",
       "    <tr style=\"text-align: right;\">\n",
       "      <th></th>\n",
       "      <th>OBJECTID</th>\n",
       "      <th>PFA21CD</th>\n",
       "      <th>PFA21NM</th>\n",
       "      <th>BNG_E</th>\n",
       "      <th>BNG_N</th>\n",
       "      <th>LONG</th>\n",
       "      <th>LAT</th>\n",
       "      <th>GlobalID</th>\n",
       "      <th>SHAPE_Leng</th>\n",
       "      <th>SHAPE_Area</th>\n",
       "      <th>geometry</th>\n",
       "    </tr>\n",
       "  </thead>\n",
       "  <tbody>\n",
       "    <tr>\n",
       "      <th>32</th>\n",
       "      <td>33</td>\n",
       "      <td>E23000033</td>\n",
       "      <td>Sussex</td>\n",
       "      <td>556570</td>\n",
       "      <td>117296</td>\n",
       "      <td>0.226848</td>\n",
       "      <td>50.933861</td>\n",
       "      <td>{2A204699-2B56-42AD-B396-7F535D40D5FB}</td>\n",
       "      <td>711999.620282</td>\n",
       "      <td>3.786718e+09</td>\n",
       "      <td>MULTIPOLYGON (((483325.407 94764.633, 483268.2...</td>\n",
       "    </tr>\n",
       "  </tbody>\n",
       "</table>\n",
       "</div>"
      ],
      "text/plain": [
       "    OBJECTID    PFA21CD PFA21NM   BNG_E   BNG_N      LONG        LAT  \\\n",
       "32        33  E23000033  Sussex  556570  117296  0.226848  50.933861   \n",
       "\n",
       "                                  GlobalID     SHAPE_Leng    SHAPE_Area  \\\n",
       "32  {2A204699-2B56-42AD-B396-7F535D40D5FB}  711999.620282  3.786718e+09   \n",
       "\n",
       "                                             geometry  \n",
       "32  MULTIPOLYGON (((483325.407 94764.633, 483268.2...  "
      ]
     },
     "execution_count": 12,
     "metadata": {},
     "output_type": "execute_result"
    }
   ],
   "source": [
    "sussex_poly"
   ]
  },
  {
   "cell_type": "code",
   "execution_count": 13,
   "metadata": {
    "application/vnd.databricks.v1+cell": {
     "inputWidgets": {},
     "nuid": "7eb2b2d0-be66-4fd2-a767-81db5237292c",
     "showTitle": false,
     "title": ""
    }
   },
   "outputs": [],
   "source": [
    "\n",
    "sussex_rta = gpd.sjoin(rta_gdf, sussex_poly, how=\"inner\")"
   ]
  },
  {
   "cell_type": "code",
   "execution_count": 14,
   "metadata": {
    "application/vnd.databricks.v1+cell": {
     "inputWidgets": {},
     "nuid": "e6f10136-5a8b-4cf9-8e50-82d66da72d29",
     "showTitle": false,
     "title": ""
    }
   },
   "outputs": [
    {
     "data": {
      "text/plain": [
       "<AxesSubplot:>"
      ]
     },
     "execution_count": 14,
     "metadata": {},
     "output_type": "execute_result"
    },
    {
     "data": {
      "image/png": "[encoded data removed]",
      "text/plain": [
       "<Figure size 432x288 with 1 Axes>"
      ]
     },
     "metadata": {
      "needs_background": "light"
     },
     "output_type": "display_data"
    }
   ],
   "source": [
    "sussex_rta.plot()"
   ]
  },
  {
   "cell_type": "code",
   "execution_count": 15,
   "metadata": {
    "application/vnd.databricks.v1+cell": {
     "inputWidgets": {},
     "nuid": "9b4b27c1-f851-47fc-8493-02bf2bee0140",
     "showTitle": false,
     "title": ""
    }
   },
   "outputs": [
    {
     "data": {
      "text/html": [
       "<div>\n",
       "<style scoped>\n",
       "    .dataframe tbody tr th:only-of-type {\n",
       "        vertical-align: middle;\n",
       "    }\n",
       "\n",
       "    .dataframe tbody tr th {\n",
       "        vertical-align: top;\n",
       "    }\n",
       "\n",
       "    .dataframe thead th {\n",
       "        text-align: right;\n",
       "    }\n",
       "</style>\n",
       "<table border=\"1\" class=\"dataframe\">\n",
       "  <thead>\n",
       "    <tr style=\"text-align: right;\">\n",
       "      <th></th>\n",
       "      <th>accident_index</th>\n",
       "      <th>accident_year</th>\n",
       "      <th>accident_reference</th>\n",
       "      <th>location_easting_osgr</th>\n",
       "      <th>location_northing_osgr</th>\n",
       "      <th>longitude</th>\n",
       "      <th>latitude</th>\n",
       "      <th>police_force</th>\n",
       "      <th>accident_severity</th>\n",
       "      <th>number_of_vehicles</th>\n",
       "      <th>...</th>\n",
       "      <th>OBJECTID</th>\n",
       "      <th>PFA21CD</th>\n",
       "      <th>PFA21NM</th>\n",
       "      <th>BNG_E</th>\n",
       "      <th>BNG_N</th>\n",
       "      <th>LONG</th>\n",
       "      <th>LAT</th>\n",
       "      <th>GlobalID</th>\n",
       "      <th>SHAPE_Leng</th>\n",
       "      <th>SHAPE_Area</th>\n",
       "    </tr>\n",
       "  </thead>\n",
       "  <tbody>\n",
       "    <tr>\n",
       "      <th>108207</th>\n",
       "      <td>2016471600009</td>\n",
       "      <td>2016</td>\n",
       "      <td>471600009</td>\n",
       "      <td>510617.0</td>\n",
       "      <td>102999.0</td>\n",
       "      <td>-0.431144</td>\n",
       "      <td>50.815918</td>\n",
       "      <td>47</td>\n",
       "      <td>3</td>\n",
       "      <td>3</td>\n",
       "      <td>...</td>\n",
       "      <td>33</td>\n",
       "      <td>E23000033</td>\n",
       "      <td>Sussex</td>\n",
       "      <td>556570</td>\n",
       "      <td>117296</td>\n",
       "      <td>0.226848</td>\n",
       "      <td>50.933861</td>\n",
       "      <td>{2A204699-2B56-42AD-B396-7F535D40D5FB}</td>\n",
       "      <td>711999.620282</td>\n",
       "      <td>3.786718e+09</td>\n",
       "    </tr>\n",
       "  </tbody>\n",
       "</table>\n",
       "<p>1 rows × 48 columns</p>\n",
       "</div>"
      ],
      "text/plain": [
       "       accident_index  accident_year accident_reference  \\\n",
       "108207  2016471600009           2016          471600009   \n",
       "\n",
       "        location_easting_osgr  location_northing_osgr  longitude   latitude  \\\n",
       "108207               510617.0                102999.0  -0.431144  50.815918   \n",
       "\n",
       "        police_force  accident_severity  number_of_vehicles  ...  OBJECTID  \\\n",
       "108207            47                  3                   3  ...        33   \n",
       "\n",
       "          PFA21CD  PFA21NM   BNG_E   BNG_N      LONG        LAT  \\\n",
       "108207  E23000033   Sussex  556570  117296  0.226848  50.933861   \n",
       "\n",
       "                                      GlobalID     SHAPE_Leng    SHAPE_Area  \n",
       "108207  {2A204699-2B56-42AD-B396-7F535D40D5FB}  711999.620282  3.786718e+09  \n",
       "\n",
       "[1 rows x 48 columns]"
      ]
     },
     "execution_count": 15,
     "metadata": {},
     "output_type": "execute_result"
    }
   ],
   "source": [
    "sussex_rta.head(1)"
   ]
  },
  {
   "cell_type": "code",
   "execution_count": 16,
   "metadata": {
    "application/vnd.databricks.v1+cell": {
     "inputWidgets": {},
     "nuid": "11dc4321-7885-46bd-ad8e-564032aec293",
     "showTitle": false,
     "title": ""
    }
   },
   "outputs": [
    {
     "data": {
      "text/html": [
       "<div>\n",
       "<style scoped>\n",
       "    .dataframe tbody tr th:only-of-type {\n",
       "        vertical-align: middle;\n",
       "    }\n",
       "\n",
       "    .dataframe tbody tr th {\n",
       "        vertical-align: top;\n",
       "    }\n",
       "\n",
       "    .dataframe thead th {\n",
       "        text-align: right;\n",
       "    }\n",
       "</style>\n",
       "<table border=\"1\" class=\"dataframe\">\n",
       "  <thead>\n",
       "    <tr style=\"text-align: right;\">\n",
       "      <th></th>\n",
       "      <th>accident_year</th>\n",
       "      <th>location_easting_osgr</th>\n",
       "      <th>location_northing_osgr</th>\n",
       "      <th>longitude</th>\n",
       "      <th>latitude</th>\n",
       "      <th>police_force</th>\n",
       "      <th>accident_severity</th>\n",
       "      <th>number_of_vehicles</th>\n",
       "      <th>number_of_casualties</th>\n",
       "      <th>day_of_week</th>\n",
       "      <th>...</th>\n",
       "      <th>did_police_officer_attend_scene_of_accident</th>\n",
       "      <th>trunk_road_flag</th>\n",
       "      <th>index_right</th>\n",
       "      <th>OBJECTID</th>\n",
       "      <th>BNG_E</th>\n",
       "      <th>BNG_N</th>\n",
       "      <th>LONG</th>\n",
       "      <th>LAT</th>\n",
       "      <th>SHAPE_Leng</th>\n",
       "      <th>SHAPE_Area</th>\n",
       "    </tr>\n",
       "  </thead>\n",
       "  <tbody>\n",
       "    <tr>\n",
       "      <th>count</th>\n",
       "      <td>18991.000000</td>\n",
       "      <td>18991.000000</td>\n",
       "      <td>18991.000000</td>\n",
       "      <td>18991.000000</td>\n",
       "      <td>18991.000000</td>\n",
       "      <td>18991.000000</td>\n",
       "      <td>18991.000000</td>\n",
       "      <td>18991.000000</td>\n",
       "      <td>18991.00000</td>\n",
       "      <td>18991.000000</td>\n",
       "      <td>...</td>\n",
       "      <td>18991.000000</td>\n",
       "      <td>18991.000000</td>\n",
       "      <td>18991.0</td>\n",
       "      <td>18991.0</td>\n",
       "      <td>18991.0</td>\n",
       "      <td>18991.0</td>\n",
       "      <td>1.899100e+04</td>\n",
       "      <td>18991.000000</td>\n",
       "      <td>1.899100e+04</td>\n",
       "      <td>1.899100e+04</td>\n",
       "    </tr>\n",
       "    <tr>\n",
       "      <th>mean</th>\n",
       "      <td>2017.894845</td>\n",
       "      <td>532337.232005</td>\n",
       "      <td>113084.936022</td>\n",
       "      <td>-0.119320</td>\n",
       "      <td>50.901471</td>\n",
       "      <td>46.999947</td>\n",
       "      <td>2.742615</td>\n",
       "      <td>1.903165</td>\n",
       "      <td>1.31020</td>\n",
       "      <td>4.104629</td>\n",
       "      <td>...</td>\n",
       "      <td>1.255911</td>\n",
       "      <td>1.896899</td>\n",
       "      <td>32.0</td>\n",
       "      <td>33.0</td>\n",
       "      <td>556570.0</td>\n",
       "      <td>117296.0</td>\n",
       "      <td>2.268480e-01</td>\n",
       "      <td>50.933861</td>\n",
       "      <td>7.119996e+05</td>\n",
       "      <td>3.786718e+09</td>\n",
       "    </tr>\n",
       "    <tr>\n",
       "      <th>std</th>\n",
       "      <td>1.389326</td>\n",
       "      <td>26128.888034</td>\n",
       "      <td>12000.760736</td>\n",
       "      <td>0.371476</td>\n",
       "      <td>0.107758</td>\n",
       "      <td>0.007256</td>\n",
       "      <td>0.463968</td>\n",
       "      <td>0.742132</td>\n",
       "      <td>0.72289</td>\n",
       "      <td>1.916546</td>\n",
       "      <td>...</td>\n",
       "      <td>0.436383</td>\n",
       "      <td>0.304099</td>\n",
       "      <td>0.0</td>\n",
       "      <td>0.0</td>\n",
       "      <td>0.0</td>\n",
       "      <td>0.0</td>\n",
       "      <td>5.551261e-17</td>\n",
       "      <td>0.000000</td>\n",
       "      <td>6.333160e-08</td>\n",
       "      <td>1.167328e-03</td>\n",
       "    </tr>\n",
       "    <tr>\n",
       "      <th>min</th>\n",
       "      <td>2016.000000</td>\n",
       "      <td>474542.000000</td>\n",
       "      <td>92829.000000</td>\n",
       "      <td>-0.941778</td>\n",
       "      <td>50.728749</td>\n",
       "      <td>46.000000</td>\n",
       "      <td>1.000000</td>\n",
       "      <td>1.000000</td>\n",
       "      <td>1.00000</td>\n",
       "      <td>1.000000</td>\n",
       "      <td>...</td>\n",
       "      <td>1.000000</td>\n",
       "      <td>1.000000</td>\n",
       "      <td>32.0</td>\n",
       "      <td>33.0</td>\n",
       "      <td>556570.0</td>\n",
       "      <td>117296.0</td>\n",
       "      <td>2.268480e-01</td>\n",
       "      <td>50.933861</td>\n",
       "      <td>7.119996e+05</td>\n",
       "      <td>3.786718e+09</td>\n",
       "    </tr>\n",
       "    <tr>\n",
       "      <th>25%</th>\n",
       "      <td>2017.000000</td>\n",
       "      <td>515502.000000</td>\n",
       "      <td>104353.500000</td>\n",
       "      <td>-0.359239</td>\n",
       "      <td>50.824784</td>\n",
       "      <td>47.000000</td>\n",
       "      <td>3.000000</td>\n",
       "      <td>1.000000</td>\n",
       "      <td>1.00000</td>\n",
       "      <td>2.000000</td>\n",
       "      <td>...</td>\n",
       "      <td>1.000000</td>\n",
       "      <td>2.000000</td>\n",
       "      <td>32.0</td>\n",
       "      <td>33.0</td>\n",
       "      <td>556570.0</td>\n",
       "      <td>117296.0</td>\n",
       "      <td>2.268480e-01</td>\n",
       "      <td>50.933861</td>\n",
       "      <td>7.119996e+05</td>\n",
       "      <td>3.786718e+09</td>\n",
       "    </tr>\n",
       "    <tr>\n",
       "      <th>50%</th>\n",
       "      <td>2018.000000</td>\n",
       "      <td>530143.000000</td>\n",
       "      <td>107882.000000</td>\n",
       "      <td>-0.150394</td>\n",
       "      <td>50.852626</td>\n",
       "      <td>47.000000</td>\n",
       "      <td>3.000000</td>\n",
       "      <td>2.000000</td>\n",
       "      <td>1.00000</td>\n",
       "      <td>4.000000</td>\n",
       "      <td>...</td>\n",
       "      <td>1.000000</td>\n",
       "      <td>2.000000</td>\n",
       "      <td>32.0</td>\n",
       "      <td>33.0</td>\n",
       "      <td>556570.0</td>\n",
       "      <td>117296.0</td>\n",
       "      <td>2.268480e-01</td>\n",
       "      <td>50.933861</td>\n",
       "      <td>7.119996e+05</td>\n",
       "      <td>3.786718e+09</td>\n",
       "    </tr>\n",
       "    <tr>\n",
       "      <th>75%</th>\n",
       "      <td>2019.000000</td>\n",
       "      <td>550442.000000</td>\n",
       "      <td>121358.500000</td>\n",
       "      <td>0.139809</td>\n",
       "      <td>50.973178</td>\n",
       "      <td>47.000000</td>\n",
       "      <td>3.000000</td>\n",
       "      <td>2.000000</td>\n",
       "      <td>1.00000</td>\n",
       "      <td>6.000000</td>\n",
       "      <td>...</td>\n",
       "      <td>2.000000</td>\n",
       "      <td>2.000000</td>\n",
       "      <td>32.0</td>\n",
       "      <td>33.0</td>\n",
       "      <td>556570.0</td>\n",
       "      <td>117296.0</td>\n",
       "      <td>2.268480e-01</td>\n",
       "      <td>50.933861</td>\n",
       "      <td>7.119996e+05</td>\n",
       "      <td>3.786718e+09</td>\n",
       "    </tr>\n",
       "    <tr>\n",
       "      <th>max</th>\n",
       "      <td>2020.000000</td>\n",
       "      <td>601302.000000</td>\n",
       "      <td>142472.000000</td>\n",
       "      <td>0.863607</td>\n",
       "      <td>51.167286</td>\n",
       "      <td>47.000000</td>\n",
       "      <td>3.000000</td>\n",
       "      <td>14.000000</td>\n",
       "      <td>12.00000</td>\n",
       "      <td>7.000000</td>\n",
       "      <td>...</td>\n",
       "      <td>2.000000</td>\n",
       "      <td>2.000000</td>\n",
       "      <td>32.0</td>\n",
       "      <td>33.0</td>\n",
       "      <td>556570.0</td>\n",
       "      <td>117296.0</td>\n",
       "      <td>2.268480e-01</td>\n",
       "      <td>50.933861</td>\n",
       "      <td>7.119996e+05</td>\n",
       "      <td>3.786718e+09</td>\n",
       "    </tr>\n",
       "  </tbody>\n",
       "</table>\n",
       "<p>8 rows × 37 columns</p>\n",
       "</div>"
      ],
      "text/plain": [
       "       accident_year  location_easting_osgr  location_northing_osgr  \\\n",
       "count   18991.000000           18991.000000            18991.000000   \n",
       "mean     2017.894845          532337.232005           113084.936022   \n",
       "std         1.389326           26128.888034            12000.760736   \n",
       "min      2016.000000          474542.000000            92829.000000   \n",
       "25%      2017.000000          515502.000000           104353.500000   \n",
       "50%      2018.000000          530143.000000           107882.000000   \n",
       "75%      2019.000000          550442.000000           121358.500000   \n",
       "max      2020.000000          601302.000000           142472.000000   \n",
       "\n",
       "          longitude      latitude  police_force  accident_severity  \\\n",
       "count  18991.000000  18991.000000  18991.000000       18991.000000   \n",
       "mean      -0.119320     50.901471     46.999947           2.742615   \n",
       "std        0.371476      0.107758      0.007256           0.463968   \n",
       "min       -0.941778     50.728749     46.000000           1.000000   \n",
       "25%       -0.359239     50.824784     47.000000           3.000000   \n",
       "50%       -0.150394     50.852626     47.000000           3.000000   \n",
       "75%        0.139809     50.973178     47.000000           3.000000   \n",
       "max        0.863607     51.167286     47.000000           3.000000   \n",
       "\n",
       "       number_of_vehicles  number_of_casualties   day_of_week  ...  \\\n",
       "count        18991.000000           18991.00000  18991.000000  ...   \n",
       "mean             1.903165               1.31020      4.104629  ...   \n",
       "std              0.742132               0.72289      1.916546  ...   \n",
       "min              1.000000               1.00000      1.000000  ...   \n",
       "25%              1.000000               1.00000      2.000000  ...   \n",
       "50%              2.000000               1.00000      4.000000  ...   \n",
       "75%              2.000000               1.00000      6.000000  ...   \n",
       "max             14.000000              12.00000      7.000000  ...   \n",
       "\n",
       "       did_police_officer_attend_scene_of_accident  trunk_road_flag  \\\n",
       "count                                 18991.000000     18991.000000   \n",
       "mean                                      1.255911         1.896899   \n",
       "std                                       0.436383         0.304099   \n",
       "min                                       1.000000         1.000000   \n",
       "25%                                       1.000000         2.000000   \n",
       "50%                                       1.000000         2.000000   \n",
       "75%                                       2.000000         2.000000   \n",
       "max                                       2.000000         2.000000   \n",
       "\n",
       "       index_right  OBJECTID     BNG_E     BNG_N          LONG           LAT  \\\n",
       "count      18991.0   18991.0   18991.0   18991.0  1.899100e+04  18991.000000   \n",
       "mean          32.0      33.0  556570.0  117296.0  2.268480e-01     50.933861   \n",
       "std            0.0       0.0       0.0       0.0  5.551261e-17      0.000000   \n",
       "min           32.0      33.0  556570.0  117296.0  2.268480e-01     50.933861   \n",
       "25%           32.0      33.0  556570.0  117296.0  2.268480e-01     50.933861   \n",
       "50%           32.0      33.0  556570.0  117296.0  2.268480e-01     50.933861   \n",
       "75%           32.0      33.0  556570.0  117296.0  2.268480e-01     50.933861   \n",
       "max           32.0      33.0  556570.0  117296.0  2.268480e-01     50.933861   \n",
       "\n",
       "         SHAPE_Leng    SHAPE_Area  \n",
       "count  1.899100e+04  1.899100e+04  \n",
       "mean   7.119996e+05  3.786718e+09  \n",
       "std    6.333160e-08  1.167328e-03  \n",
       "min    7.119996e+05  3.786718e+09  \n",
       "25%    7.119996e+05  3.786718e+09  \n",
       "50%    7.119996e+05  3.786718e+09  \n",
       "75%    7.119996e+05  3.786718e+09  \n",
       "max    7.119996e+05  3.786718e+09  \n",
       "\n",
       "[8 rows x 37 columns]"
      ]
     },
     "execution_count": 16,
     "metadata": {},
     "output_type": "execute_result"
    }
   ],
   "source": [
    "sussex_rta.describe()"
   ]
  },
  {
   "cell_type": "code",
   "execution_count": 17,
   "metadata": {},
   "outputs": [
    {
     "name": "stderr",
     "output_type": "stream",
     "text": [
      "C:\\Users\\mhudgell\\AppData\\Roaming\\Python\\Python37\\site-packages\\ipykernel_launcher.py:9: FutureWarning: Series.dt.weekofyear and Series.dt.week have been deprecated.  Please use Series.dt.isocalendar().week instead.\n",
      "  if __name__ == \"__main__\":\n"
     ]
    }
   ],
   "source": [
    "\n",
    "\n",
    "\n",
    "sussex_rta['date_time'] = sussex_rta['date'] + \" \" + sussex_rta['time']\n",
    "sussex_rta['date_time'] = sussex_rta['date_time'] = pd.to_datetime(sussex_rta['date_time'], format=\"%d/%m/%Y %H:%M\")\n",
    "sussex_rta['ddate'] = sussex_rta['date_time'].dt.date\n",
    "sussex_rta['day_of_week'] = sussex_rta['date_time'].dt.day_of_week\n",
    "sussex_rta['month'] = sussex_rta['date_time'].dt.month\n",
    "sussex_rta['hour'] = sussex_rta['date_time'].dt.hour\n",
    "sussex_rta['minute'] = sussex_rta['date_time'].dt.minute\n",
    "sussex_rta['day_of_year'] = sussex_rta['date_time'].dt.day_of_year\n",
    "sussex_rta['week_number'] = sussex_rta['date_time'].dt.week\n",
    "sussex_rta['time'] = sussex_rta['date_time'].dt.time\n",
    "sussex_rta['number_of_vehicles'] = sussex_rta['number_of_vehicles'].astype(int)\n",
    "sussex_rta['number_of_casualties'] = sussex_rta['number_of_casualties'].astype(int)\n"
   ]
  },
  {
   "cell_type": "code",
   "execution_count": 18,
   "metadata": {},
   "outputs": [
    {
     "name": "stdout",
     "output_type": "stream",
     "text": [
      "Index(['accident_index', 'accident_year', 'accident_reference',\n",
      "       'location_easting_osgr', 'location_northing_osgr', 'longitude',\n",
      "       'latitude', 'police_force', 'accident_severity', 'number_of_vehicles',\n",
      "       'number_of_casualties', 'date', 'day_of_week', 'time',\n",
      "       'local_authority_district', 'local_authority_ons_district',\n",
      "       'local_authority_highway', 'first_road_class', 'first_road_number',\n",
      "       'road_type', 'speed_limit', 'junction_detail', 'junction_control',\n",
      "       'second_road_class', 'second_road_number',\n",
      "       'pedestrian_crossing_human_control',\n",
      "       'pedestrian_crossing_physical_facilities', 'light_conditions',\n",
      "       'weather_conditions', 'road_surface_conditions',\n",
      "       'special_conditions_at_site', 'carriageway_hazards',\n",
      "       'urban_or_rural_area', 'did_police_officer_attend_scene_of_accident',\n",
      "       'trunk_road_flag', 'lsoa_of_accident_location', 'geometry',\n",
      "       'index_right', 'OBJECTID', 'PFA21CD', 'PFA21NM', 'BNG_E', 'BNG_N',\n",
      "       'LONG', 'LAT', 'GlobalID', 'SHAPE_Leng', 'SHAPE_Area', 'date_time',\n",
      "       'ddate', 'month', 'hour', 'minute', 'day_of_year', 'week_number'],\n",
      "      dtype='object')\n"
     ]
    }
   ],
   "source": [
    "print(sussex_rta.columns)"
   ]
  },
  {
   "cell_type": "code",
   "execution_count": 44,
   "metadata": {},
   "outputs": [],
   "source": [
    "data = sussex_rta[['accident_severity','speed_limit']]\n",
    "\n",
    "#'accident_severity',"
   ]
  },
  {
   "cell_type": "code",
   "execution_count": 45,
   "metadata": {},
   "outputs": [
    {
     "data": {
      "text/html": [
       "<div>\n",
       "<style scoped>\n",
       "    .dataframe tbody tr th:only-of-type {\n",
       "        vertical-align: middle;\n",
       "    }\n",
       "\n",
       "    .dataframe tbody tr th {\n",
       "        vertical-align: top;\n",
       "    }\n",
       "\n",
       "    .dataframe thead th {\n",
       "        text-align: right;\n",
       "    }\n",
       "</style>\n",
       "<table border=\"1\" class=\"dataframe\">\n",
       "  <thead>\n",
       "    <tr style=\"text-align: right;\">\n",
       "      <th></th>\n",
       "      <th>accident_severity</th>\n",
       "      <th>speed_limit</th>\n",
       "    </tr>\n",
       "  </thead>\n",
       "  <tbody>\n",
       "    <tr>\n",
       "      <th>108207</th>\n",
       "      <td>3</td>\n",
       "      <td>40.0</td>\n",
       "    </tr>\n",
       "    <tr>\n",
       "      <th>108208</th>\n",
       "      <td>2</td>\n",
       "      <td>20.0</td>\n",
       "    </tr>\n",
       "    <tr>\n",
       "      <th>108209</th>\n",
       "      <td>3</td>\n",
       "      <td>30.0</td>\n",
       "    </tr>\n",
       "    <tr>\n",
       "      <th>108210</th>\n",
       "      <td>2</td>\n",
       "      <td>40.0</td>\n",
       "    </tr>\n",
       "    <tr>\n",
       "      <th>108211</th>\n",
       "      <td>3</td>\n",
       "      <td>60.0</td>\n",
       "    </tr>\n",
       "    <tr>\n",
       "      <th>...</th>\n",
       "      <td>...</td>\n",
       "      <td>...</td>\n",
       "    </tr>\n",
       "    <tr>\n",
       "      <th>583677</th>\n",
       "      <td>3</td>\n",
       "      <td>40.0</td>\n",
       "    </tr>\n",
       "    <tr>\n",
       "      <th>583678</th>\n",
       "      <td>3</td>\n",
       "      <td>30.0</td>\n",
       "    </tr>\n",
       "    <tr>\n",
       "      <th>583679</th>\n",
       "      <td>3</td>\n",
       "      <td>30.0</td>\n",
       "    </tr>\n",
       "    <tr>\n",
       "      <th>583680</th>\n",
       "      <td>3</td>\n",
       "      <td>40.0</td>\n",
       "    </tr>\n",
       "    <tr>\n",
       "      <th>583681</th>\n",
       "      <td>3</td>\n",
       "      <td>70.0</td>\n",
       "    </tr>\n",
       "  </tbody>\n",
       "</table>\n",
       "<p>18991 rows × 2 columns</p>\n",
       "</div>"
      ],
      "text/plain": [
       "        accident_severity  speed_limit\n",
       "108207                  3         40.0\n",
       "108208                  2         20.0\n",
       "108209                  3         30.0\n",
       "108210                  2         40.0\n",
       "108211                  3         60.0\n",
       "...                   ...          ...\n",
       "583677                  3         40.0\n",
       "583678                  3         30.0\n",
       "583679                  3         30.0\n",
       "583680                  3         40.0\n",
       "583681                  3         70.0\n",
       "\n",
       "[18991 rows x 2 columns]"
      ]
     },
     "execution_count": 45,
     "metadata": {},
     "output_type": "execute_result"
    }
   ],
   "source": [
    "data"
   ]
  },
  {
   "cell_type": "code",
   "execution_count": 52,
   "metadata": {},
   "outputs": [
    {
     "name": "stdout",
     "output_type": "stream",
     "text": [
      "Init: initializing centroids\n",
      "Init: initializing clusters\n",
      "Starting iterations...\n",
      "Run 1, iteration: 1/100, moves: 164, cost: 6172.0\n",
      "Init: initializing centroids\n",
      "Init: initializing clusters\n",
      "Starting iterations...\n",
      "Run 2, iteration: 1/100, moves: 487, cost: 6032.0\n",
      "Init: initializing centroids\n",
      "Init: initializing clusters\n",
      "Starting iterations...\n",
      "Run 3, iteration: 1/100, moves: 4177, cost: 4645.0\n",
      "Run 3, iteration: 2/100, moves: 55, cost: 4645.0\n",
      "Init: initializing centroids\n",
      "Init: initializing clusters\n",
      "Starting iterations...\n",
      "Run 4, iteration: 1/100, moves: 2080, cost: 5384.0\n",
      "Init: initializing centroids\n",
      "Init: initializing clusters\n",
      "Starting iterations...\n",
      "Run 5, iteration: 1/100, moves: 3566, cost: 5378.0\n",
      "Run 5, iteration: 2/100, moves: 55, cost: 5378.0\n",
      "Best run was number 3\n",
      "[[ 2. 60.]\n",
      " [ 3. 60.]\n",
      " [ 3. 30.]\n",
      " [ 2. 30.]\n",
      " [ 3. 20.]]\n"
     ]
    }
   ],
   "source": [
    "\n",
    "\n",
    "km = KModes(n_clusters=5, init='Huang', n_init=5, verbose=1)\n",
    "clusters = km.fit_predict(data)\n",
    "# Print the cluster centroids\n",
    "print(km.cluster_centroids_)"
   ]
  },
  {
   "cell_type": "code",
   "execution_count": 53,
   "metadata": {},
   "outputs": [],
   "source": [
    "sussex_rta['cluster'] = km.labels_"
   ]
  },
  {
   "cell_type": "code",
   "execution_count": 54,
   "metadata": {},
   "outputs": [
    {
     "data": {
      "text/plain": [
       "count    18991.000000\n",
       "mean         1.745300\n",
       "std          1.088332\n",
       "min          0.000000\n",
       "25%          1.000000\n",
       "50%          2.000000\n",
       "75%          2.000000\n",
       "max          4.000000\n",
       "Name: cluster, dtype: float64"
      ]
     },
     "execution_count": 54,
     "metadata": {},
     "output_type": "execute_result"
    }
   ],
   "source": [
    "sussex_rta['cluster'].describe()"
   ]
  },
  {
   "cell_type": "code",
   "execution_count": 65,
   "metadata": {},
   "outputs": [
    {
     "data": {
      "image/png": "[encoded data removed]",
      "text/plain": [
       "<Figure size 1728x864 with 2 Axes>"
      ]
     },
     "metadata": {
      "needs_background": "light"
     },
     "output_type": "display_data"
    }
   ],
   "source": [
    "fig, ax = plt.subplots(figsize=(24, 12))\n",
    "ax1 = sussex_rta.plot.scatter(ax=ax, alpha=.5, x='speed_limit', y='accident_severity',\n",
    "                      c=sussex_rta.cluster, cmap='rainbow_r')\n",
    "\n",
    "\n"
   ]
  },
  {
   "cell_type": "code",
   "execution_count": 62,
   "metadata": {},
   "outputs": [
    {
     "data": {
      "image/png": "[encoded data removed]",
      "text/plain": [
       "<Figure size 1728x864 with 1 Axes>"
      ]
     },
     "metadata": {
      "needs_background": "light"
     },
     "output_type": "display_data"
    }
   ],
   "source": [
    "fig, ax = plt.subplots(figsize=(24, 12))\n",
    "ax1 = sussex_rta['cluster'].plot.hist(ax=ax, alpha=.5)\n",
    "\n"
   ]
  },
  {
   "cell_type": "code",
   "execution_count": 63,
   "metadata": {},
   "outputs": [
    {
     "data": {
      "image/png": "[encoded data removed]",
      "text/plain": [
       "<Figure size 1728x864 with 1 Axes>"
      ]
     },
     "metadata": {
      "needs_background": "light"
     },
     "output_type": "display_data"
    }
   ],
   "source": [
    "fig, ax = plt.subplots(figsize=(24, 12))\n",
    "ax1 = sussex_rta['accident_severity'].plot.hist(ax=ax, alpha=.5)\n"
   ]
  },
  {
   "cell_type": "code",
   "execution_count": 64,
   "metadata": {},
   "outputs": [
    {
     "data": {
      "image/png": "[encoded data removed]",
      "text/plain": [
       "<Figure size 1728x864 with 1 Axes>"
      ]
     },
     "metadata": {
      "needs_background": "light"
     },
     "output_type": "display_data"
    }
   ],
   "source": [
    "fig, ax = plt.subplots(figsize=(24, 12))\n",
    "ax1 = sussex_rta['speed_limit'].plot.hist(ax=ax, alpha=.5)"
   ]
  },
  {
   "cell_type": "code",
   "execution_count": null,
   "metadata": {},
   "outputs": [],
   "source": []
  }
 ],
 "metadata": {
  "application/vnd.databricks.v1+notebook": {
   "dashboards": [],
   "language": "python",
   "notebookMetadata": {
    "pythonIndentUnit": 2
   },
   "notebookName": "DSA - RTA",
   "notebookOrigID": 1076242557819948,
   "widgets": {}
  },
  "kernelspec": {
   "display_name": "Python 3 (ipykernel)",
   "language": "python",
   "name": "python3"
  },
  "language_info": {
   "codemirror_mode": {
    "name": "ipython",
    "version": 3
   },
   "file_extension": ".py",
   "mimetype": "text/x-python",
   "name": "python",
   "nbconvert_exporter": "python",
   "pygments_lexer": "ipython3",
   "version": "3.7.13"
  }
 },
 "nbformat": 4,
 "nbformat_minor": 1
}
